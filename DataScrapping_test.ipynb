{
  "nbformat": 4,
  "nbformat_minor": 0,
  "metadata": {
    "colab": {
      "provenance": []
    },
    "kernelspec": {
      "name": "python3",
      "display_name": "Python 3"
    },
    "language_info": {
      "name": "python"
    }
  },
  "cells": [
    {
      "cell_type": "code",
      "execution_count": null,
      "metadata": {
        "colab": {
          "base_uri": "https://localhost:8080/"
        },
        "collapsed": true,
        "id": "Q8ZUAGgLrRXn",
        "outputId": "9056955d-ee07-4bd1-f92c-a5ea76f16a3b"
      },
      "outputs": [
        {
          "output_type": "stream",
          "name": "stdout",
          "text": [
            "Collecting bs4\n",
            "  Downloading bs4-0.0.2-py2.py3-none-any.whl (1.2 kB)\n",
            "Requirement already satisfied: beautifulsoup4 in /usr/local/lib/python3.10/dist-packages (from bs4) (4.12.3)\n",
            "Requirement already satisfied: soupsieve>1.2 in /usr/local/lib/python3.10/dist-packages (from beautifulsoup4->bs4) (2.5)\n",
            "Installing collected packages: bs4\n",
            "Successfully installed bs4-0.0.2\n",
            "Requirement already satisfied: pandas in /usr/local/lib/python3.10/dist-packages (2.0.3)\n",
            "Requirement already satisfied: python-dateutil>=2.8.2 in /usr/local/lib/python3.10/dist-packages (from pandas) (2.8.2)\n",
            "Requirement already satisfied: pytz>=2020.1 in /usr/local/lib/python3.10/dist-packages (from pandas) (2023.4)\n",
            "Requirement already satisfied: tzdata>=2022.1 in /usr/local/lib/python3.10/dist-packages (from pandas) (2024.1)\n",
            "Requirement already satisfied: numpy>=1.21.0 in /usr/local/lib/python3.10/dist-packages (from pandas) (1.25.2)\n",
            "Requirement already satisfied: six>=1.5 in /usr/local/lib/python3.10/dist-packages (from python-dateutil>=2.8.2->pandas) (1.16.0)\n",
            "Requirement already satisfied: requests in /usr/local/lib/python3.10/dist-packages (2.31.0)\n",
            "Requirement already satisfied: charset-normalizer<4,>=2 in /usr/local/lib/python3.10/dist-packages (from requests) (3.3.2)\n",
            "Requirement already satisfied: idna<4,>=2.5 in /usr/local/lib/python3.10/dist-packages (from requests) (3.7)\n",
            "Requirement already satisfied: urllib3<3,>=1.21.1 in /usr/local/lib/python3.10/dist-packages (from requests) (2.0.7)\n",
            "Requirement already satisfied: certifi>=2017.4.17 in /usr/local/lib/python3.10/dist-packages (from requests) (2024.2.2)\n"
          ]
        }
      ],
      "source": [
        "%pip install bs4\n",
        "%pip install pandas\n",
        "%pip install requests\n"
      ]
    },
    {
      "cell_type": "code",
      "source": [
        "\n",
        "from bs4 import BeautifulSoup\n",
        "import requests\n",
        "import pandas as pd"
      ],
      "metadata": {
        "id": "IpuRjD5Rrz0z"
      },
      "execution_count": null,
      "outputs": []
    },
    {
      "cell_type": "code",
      "source": [
        "URL = \"https://www.amazon.in/s?k=playstation+5&crid=3GEJR74R9V0QJ&sprefix=pla%2Caps%2C313&ref=nb_sb_ss_ts-doa-p_2_3\""
      ],
      "metadata": {
        "id": "uvFqwKq6thJ2"
      },
      "execution_count": null,
      "outputs": []
    },
    {
      "cell_type": "code",
      "source": [
        "HEADERS = ({'User-Agent':'Mozilla/5.0 (Windows NT 10.0; Win64; x64) AppleWebKit/537.36 (KHTML, like Gecko) Chrome/125.0.0.0 Safari/537.36', 'Accept-Language': 'en-US, en;q=0.5'}) #add your user agent"
      ],
      "metadata": {
        "id": "xOCRdUtkt_A-"
      },
      "execution_count": null,
      "outputs": []
    },
    {
      "cell_type": "code",
      "source": [
        "webpage = requests.get(URL, headers=HEADERS)"
      ],
      "metadata": {
        "id": "0cKalxERt_Dx"
      },
      "execution_count": null,
      "outputs": []
    },
    {
      "cell_type": "code",
      "source": [
        "type(webpage.content)"
      ],
      "metadata": {
        "id": "dfjjqxxbt_G1"
      },
      "execution_count": null,
      "outputs": []
    },
    {
      "cell_type": "code",
      "source": [
        "soup = BeautifulSoup(webpage.content, \"html.parser\")"
      ],
      "metadata": {
        "id": "Y6PEm8TPt_I0"
      },
      "execution_count": null,
      "outputs": []
    },
    {
      "cell_type": "code",
      "source": [
        "soup"
      ],
      "metadata": {
        "collapsed": true,
        "id": "7j-2zIdyt_LK"
      },
      "execution_count": null,
      "outputs": []
    },
    {
      "cell_type": "code",
      "source": [
        "links = soup.find_all(\"a\", attrs={'class':'a-link-normal s-underline-text s-underline-link-text s-link-style a-text-normal'})"
      ],
      "metadata": {
        "id": "h4Z7gPspt_Yg"
      },
      "execution_count": null,
      "outputs": []
    },
    {
      "cell_type": "code",
      "source": [
        "links"
      ],
      "metadata": {
        "collapsed": true,
        "id": "NYyDxi45v6Tn"
      },
      "execution_count": null,
      "outputs": []
    },
    {
      "cell_type": "code",
      "source": [
        "links[0]"
      ],
      "metadata": {
        "id": "7DFwq1Rit_bN"
      },
      "execution_count": null,
      "outputs": []
    },
    {
      "cell_type": "code",
      "source": [
        "link = links[0].get('href')"
      ],
      "metadata": {
        "id": "cW4iX1PwvISw"
      },
      "execution_count": null,
      "outputs": []
    },
    {
      "cell_type": "code",
      "source": [
        "\n",
        "product_list = \"https://amazon.in\" + link"
      ],
      "metadata": {
        "id": "A20jnjHzvndT"
      },
      "execution_count": null,
      "outputs": []
    },
    {
      "cell_type": "code",
      "source": [
        "product_list"
      ],
      "metadata": {
        "id": "iL6d5gmVvpAN"
      },
      "execution_count": null,
      "outputs": []
    },
    {
      "cell_type": "code",
      "source": [
        "\n",
        "new_webpage = requests.get(product_list, headers=HEADERS)"
      ],
      "metadata": {
        "id": "tXU3d_gvvsEn"
      },
      "execution_count": null,
      "outputs": []
    },
    {
      "cell_type": "code",
      "source": [
        "new_webpage"
      ],
      "metadata": {
        "id": "8MkKlxt20h1f"
      },
      "execution_count": null,
      "outputs": []
    },
    {
      "cell_type": "code",
      "source": [
        "new_soup = BeautifulSoup(new_webpage.content, \"html.parser\")"
      ],
      "metadata": {
        "id": "EpGVr7YD0lSQ"
      },
      "execution_count": null,
      "outputs": []
    },
    {
      "cell_type": "code",
      "source": [
        "new_soup\n"
      ],
      "metadata": {
        "collapsed": true,
        "id": "zrSG5S_u08LK"
      },
      "execution_count": null,
      "outputs": []
    },
    {
      "cell_type": "code",
      "source": [
        "new_soup.find(\"span\", attrs={\"id\":'productTitle'}).text.strip()"
      ],
      "metadata": {
        "id": "UNiJ6fFd0-MA"
      },
      "execution_count": null,
      "outputs": []
    },
    {
      "cell_type": "code",
      "source": [
        "new_soup.find(\"span\", attrs={\"class\":'a-price aok-align-center'}).find(\"span\", attrs={\"class\": \"a-offscreen\"}).text"
      ],
      "metadata": {
        "id": "dJ9qcEc51esz"
      },
      "execution_count": null,
      "outputs": []
    },
    {
      "cell_type": "code",
      "source": [
        "reviews = new_soup.findAll('div', {'data-hook': \"review\"})"
      ],
      "metadata": {
        "id": "ztTVme9s1fCX"
      },
      "execution_count": null,
      "outputs": []
    },
    {
      "cell_type": "code",
      "source": [
        "review_0 = reviews[0]\n",
        "\n",
        "print(type(review_0))\n"
      ],
      "metadata": {
        "collapsed": true,
        "id": "XPXYygY7_H13"
      },
      "execution_count": null,
      "outputs": []
    },
    {
      "cell_type": "code",
      "source": [
        "new_soup.title.text.replace(\" : Amazon.in: Video Games\", \"\").strip()"
      ],
      "metadata": {
        "id": "PBNg60ya_RHY"
      },
      "execution_count": null,
      "outputs": []
    },
    {
      "cell_type": "code",
      "source": [
        "review_0.find('a', {'data-hook': 'review-title'}).find_all('span')[-1].text.strip()\n"
      ],
      "metadata": {
        "id": "LLaCQKlSEJCF"
      },
      "execution_count": null,
      "outputs": []
    },
    {
      "cell_type": "code",
      "source": [
        "review_0.find('i', {'data-hook': 'review-star-rating'}).find('span', {'class': 'a-icon-alt'}).text.replace(\" out of 5 stars\", \"\").strip()"
      ],
      "metadata": {
        "id": "qA6U_wTpEeCC"
      },
      "execution_count": null,
      "outputs": []
    },
    {
      "cell_type": "code",
      "source": [
        "review_0.find('span', {'data-hook': 'review-body'}).find('span').text.strip()"
      ],
      "metadata": {
        "id": "2xoNoZn0DOdJ"
      },
      "execution_count": null,
      "outputs": []
    }
  ]
}